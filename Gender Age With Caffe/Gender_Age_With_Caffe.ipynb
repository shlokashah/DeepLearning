{
  "nbformat": 4,
  "nbformat_minor": 0,
  "metadata": {
    "colab": {
      "name": "Gender Age With Caffe.ipynb",
      "provenance": [],
      "collapsed_sections": []
    },
    "kernelspec": {
      "name": "python3",
      "display_name": "Python 3"
    }
  },
  "cells": [
    {
      "cell_type": "code",
      "metadata": {
        "id": "vdvnudzNGIxB",
        "colab_type": "code",
        "colab": {}
      },
      "source": [
        "import cv2\n",
        "import matplotlib.pyplot as plt\n",
        "import numpy as np\n",
        "import pafy\n",
        "url = 'https://www.youtube.com/watch?v=c07IsbSNqfI&feature=youtu.be'\n",
        "vPafy = pafy.new(url)\n",
        "play = vPafy.getbest(preftype=\"mp4\") \n",
        "from google.colab.patches import cv2_imshow"
      ],
      "execution_count": 0,
      "outputs": []
    },
    {
      "cell_type": "code",
      "metadata": {
        "id": "ZYc9w9W8GVnR",
        "colab_type": "code",
        "outputId": "d1108724-be9e-4626-8276-53d3fc903ea2",
        "colab": {
          "base_uri": "https://localhost:8080/",
          "height": 187
        }
      },
      "source": [
        "!pip install pafy\n",
        "!pip install youtube_dl"
      ],
      "execution_count": 0,
      "outputs": [
        {
          "output_type": "stream",
          "text": [
            "Collecting pafy\n",
            "  Downloading https://files.pythonhosted.org/packages/74/69/829919eeadff695338f98fa12bb99e45490761a2010c8d688d88b6df194a/pafy-0.5.5-py2.py3-none-any.whl\n",
            "Installing collected packages: pafy\n",
            "Successfully installed pafy-0.5.5\n",
            "Collecting youtube_dl\n",
            "\u001b[?25l  Downloading https://files.pythonhosted.org/packages/3c/5c/68ae68dab722157f19fb6ef8c3151b3b4dcca82415deeb50e3e67a9732a7/youtube_dl-2020.5.8-py2.py3-none-any.whl (1.8MB)\n",
            "\u001b[K     |████████████████████████████████| 1.8MB 8.2MB/s \n",
            "\u001b[?25hInstalling collected packages: youtube-dl\n",
            "Successfully installed youtube-dl-2020.5.8\n"
          ],
          "name": "stdout"
        }
      ]
    },
    {
      "cell_type": "code",
      "metadata": {
        "id": "qu_KTnNtGYx-",
        "colab_type": "code",
        "outputId": "fa41fbb3-fe6e-4d38-8e80-2f31624c7e69",
        "colab": {
          "base_uri": "https://localhost:8080/",
          "height": 33
        }
      },
      "source": [
        "capture = cv2.VideoCapture(play.url)\n",
        "print(capture)"
      ],
      "execution_count": 0,
      "outputs": [
        {
          "output_type": "stream",
          "text": [
            "<VideoCapture 0x7f429b46a330>\n"
          ],
          "name": "stdout"
        }
      ]
    },
    {
      "cell_type": "code",
      "metadata": {
        "id": "YnogwBgHGm48",
        "colab_type": "code",
        "outputId": "87419e3f-ecf6-4d32-9699-77ffd8a7048a",
        "colab": {
          "base_uri": "https://localhost:8080/",
          "height": 33
        }
      },
      "source": [
        "capture.set(3, 480) \n",
        "capture.set(4, 640)"
      ],
      "execution_count": 0,
      "outputs": [
        {
          "output_type": "execute_result",
          "data": {
            "text/plain": [
              "False"
            ]
          },
          "metadata": {
            "tags": []
          },
          "execution_count": 5
        }
      ]
    },
    {
      "cell_type": "code",
      "metadata": {
        "id": "24bgXjFkGpAr",
        "colab_type": "code",
        "colab": {}
      },
      "source": [
        "MODEL_MEAN_VALUES = (78.4263377603, 87.7689143744, 114.895847746)\n",
        "age_list = ['(0, 2)', '(4, 6)', '(8, 12)', '(15, 20)', '(25, 32)', '(38, 43)', '(48, 53)', '(60, 100)']\n",
        "gender_list = ['Female', 'Male']\n",
        "font = cv2.FONT_HERSHEY_SIMPLEX"
      ],
      "execution_count": 0,
      "outputs": []
    },
    {
      "cell_type": "code",
      "metadata": {
        "id": "Dc771njGGrS6",
        "colab_type": "code",
        "colab": {}
      },
      "source": [
        "def load_models():\n",
        "    age_net = cv2.dnn.readNetFromCaffe('/content/drive/My Drive/OpenCV/deploy_age.prototxt', '/content/drive/My Drive/OpenCV/age_net.caffemodel')\n",
        "    gender_net = cv2.dnn.readNetFromCaffe('/content/drive/My Drive/OpenCV/deploy_gender.prototxt', '/content/drive/My Drive/OpenCV/gender_net.caffemodel')\n",
        "    return(age_net,gender_net)"
      ],
      "execution_count": 0,
      "outputs": []
    },
    {
      "cell_type": "code",
      "metadata": {
        "id": "1kIezVv-G4I-",
        "colab_type": "code",
        "colab": {}
      },
      "source": [
        "def video_detector(age_net, gender_net):\n",
        "    font = cv2.FONT_HERSHEY_SIMPLEX"
      ],
      "execution_count": 0,
      "outputs": []
    },
    {
      "cell_type": "code",
      "metadata": {
        "id": "8uI4kJViG7pv",
        "colab_type": "code",
        "colab": {}
      },
      "source": [
        "age_net,gender_net = load_models()\n",
        "video_detector(age_net,gender_net)"
      ],
      "execution_count": 0,
      "outputs": []
    },
    {
      "cell_type": "code",
      "metadata": {
        "id": "puIN-eajG9wY",
        "colab_type": "code",
        "colab": {}
      },
      "source": [
        "while True:\n",
        "    ret, image = capture.read()\n",
        "    face_cascade = cv2.CascadeClassifier('/content/drive/My Drive/OpenCV/haarcascade_frontalface_alt.xml')\n",
        " \n",
        "    gray = cv2.cvtColor(image, cv2.COLOR_BGR2GRAY)\n",
        "    faces = face_cascade.detectMultiScale(gray, 1.1, 5)\n",
        "\n",
        "    if(len(faces)>0):\n",
        "        print(\"Found {} faces\".format(str(len(faces))))\n",
        "    for (x, y, w, h )in faces:\n",
        "        cv2.rectangle(image, (x, y), (x+w, y+h), (255, 255, 0), 2) \n",
        "        face_img = image[y:y+h, x:x+w].copy()\n",
        "        blob = cv2.dnn.blobFromImage(face_img, 1, (227, 227), MODEL_MEAN_VALUES, swapRB=False)\n",
        "        \n",
        "        gender_net.setInput(blob)\n",
        "        gender_preds = gender_net.forward()\n",
        "        gender = gender_list[gender_preds[0].argmax()]\n",
        "        print(\"Gender : \" + gender)\n",
        "        age_net.setInput(blob)\n",
        "        age_preds = age_net.forward()\n",
        "        age = age_list[age_preds[0].argmax()]\n",
        "        print(\"Age Range: \" + age)\n",
        "    overlay_text = \"%s %s\" % (gender, age)\n",
        "    cv2.putText(image, overlay_text, (x, y), font, 1, (255, 255, 255), 2, cv2.LINE_AA) \n",
        "    cv2_imshow(image)\n",
        "    if cv2.waitKey(1) & 0xFF == ord('q'): \n",
        "        break"
      ],
      "execution_count": 0,
      "outputs": []
    },
    {
      "cell_type": "code",
      "metadata": {
        "id": "rtsY_SIiNpcs",
        "colab_type": "code",
        "colab": {}
      },
      "source": [
        ""
      ],
      "execution_count": 0,
      "outputs": []
    }
  ]
}